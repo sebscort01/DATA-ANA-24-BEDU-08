{
 "cells": [
  {
   "cell_type": "code",
   "execution_count": 5,
   "id": "66546af3-4efb-4136-afad-931778c7f0b6",
   "metadata": {},
   "outputs": [],
   "source": [
    "import cv2\n",
    "import numpy as np\n",
    "\n",
    "# Cargar archivo\n",
    "FILENAME = 'tmp/nube.jpg'\n",
    "imagen = cv2.imread(FILENAME)\n",
    "\n",
    "# Convertir a escala de grises\n",
    "imagen_gris = cv2.cvtColor(imagen, cv2.COLOR_BGR2GRAY)\n",
    "\n",
    "# aplicar un filtro Gaussiano\n",
    "imagen_suavizada = cv2.GaussianBlur(imagen_gris, (5, 5), 0)\n",
    "\n",
    "# Adatative umbrella\n",
    "imagen_binaria = cv2.adaptiveThreshold(\n",
    "    imagen_suavizada,\n",
    "    255,\n",
    "    cv2.ADAPTIVE_THRESH_GAUSSIAN_C,\n",
    "    cv2.THRESH_BINARY_INV,\n",
    "    11,\n",
    "    2\n",
    ")\n",
    "\n",
    "# Expandir donde existan posibles textos\n",
    "kernel = cv2.getStructuringElement(cv2.MORPH_RECT, (5, 5))\n",
    "imagen_dilatada = cv2.dilate(imagen_binaria, kernel, iterations=1)\n",
    "\n",
    "# Encontrar contornos\n",
    "contornos, _ = cv2.findContours(\n",
    "    imagen_dilatada,\n",
    "    cv2.RETR_EXTERNAL,\n",
    "    cv2.CHAIN_APPROX_SIMPLE\n",
    ")\n",
    "\n",
    "# REcorrido de regiones con posible texto\n",
    "for contorno in contornos:\n",
    "    x, y, w, h = cv2.boundingRect(contorno)\n",
    "\n",
    "    # filtrado por area y descartar elementos sin texto\n",
    "    if w > 30 and h > 10: # Textop con tamano esperado\n",
    "        relacion_aspecto = w / float(h)\n",
    "        if 1 < relacion_aspecto < 15: # Tipo de texto buscado/encontrado\n",
    "            cv2.rectangle(imagen, (x, y), (x + w, y + h), (0, 255, 0), 2)\n",
    "\n",
    "\n",
    "# Mostrar imagen\n",
    "cv2.imshow('Imagen with rostros', imagen)\n",
    "\n",
    "# DEstruir ventanas abiertas\n",
    "cv2.waitKey(0)\n",
    "cv2.destroyAllWindows()"
   ]
  },
  {
   "cell_type": "code",
   "execution_count": null,
   "id": "32e6578d-8ecd-4e80-87d5-12e63b9ea1c0",
   "metadata": {},
   "outputs": [],
   "source": []
  }
 ],
 "metadata": {
  "kernelspec": {
   "display_name": "Python 3 (ipykernel)",
   "language": "python",
   "name": "python3"
  },
  "language_info": {
   "codemirror_mode": {
    "name": "ipython",
    "version": 3
   },
   "file_extension": ".py",
   "mimetype": "text/x-python",
   "name": "python",
   "nbconvert_exporter": "python",
   "pygments_lexer": "ipython3",
   "version": "3.12.5"
  }
 },
 "nbformat": 4,
 "nbformat_minor": 5
}
