{
 "cells": [
  {
   "cell_type": "code",
   "execution_count": 4,
   "id": "512de9e9-62f4-43b1-a02b-fa7a4055f568",
   "metadata": {},
   "outputs": [],
   "source": [
    "import cv2\n",
    "\n",
    "FILENAME = 'tmp/billions.jpeg'\n",
    "\n",
    "# Crear clasificador de rostros\n",
    "clasificador_rostros = cv2.CascadeClassifier(\n",
    "    cv2.data.haarcascades + 'haarcascade_frontalface_default.xml'\n",
    ")\n",
    "\n",
    "# Cargar de imagen\n",
    "imagen = cv2.imread(FILENAME)\n",
    "\n",
    "# Convertir nuestra imagen original a una escala de grises\n",
    "imagen_gris = cv2.cvtColor(imagen, cv2.COLOR_BGR2GRAY)\n",
    "\n",
    "# Detectar rostros con clasificador\n",
    "rostros = clasificador_rostros.detectMultiScale(\n",
    "    imagen_gris,\n",
    "    scaleFactor=1.1,\n",
    "    minNeighbors=5,\n",
    "    minSize=(30,20)\n",
    ")\n",
    "\n",
    "# Pintar cuadros sobre los rostros\n",
    "for (x, y, w, h) in rostros:\n",
    "    cv2.rectangle(imagen, (x, y), (x+w, y+h), (255, 0, 0), 2)\n",
    "\n",
    "# Mostrar imagen\n",
    "cv2.imshow('Imagen with rostros', imagen)\n",
    "\n",
    "# DEstruir ventanas abiertas\n",
    "cv2.waitKey(0)\n",
    "cv2.destroyAllWindows()"
   ]
  },
  {
   "cell_type": "code",
   "execution_count": null,
   "id": "5833eb2d-f860-479d-84f3-e6081c0a5767",
   "metadata": {},
   "outputs": [],
   "source": []
  }
 ],
 "metadata": {
  "kernelspec": {
   "display_name": "Python 3 (ipykernel)",
   "language": "python",
   "name": "python3"
  },
  "language_info": {
   "codemirror_mode": {
    "name": "ipython",
    "version": 3
   },
   "file_extension": ".py",
   "mimetype": "text/x-python",
   "name": "python",
   "nbconvert_exporter": "python",
   "pygments_lexer": "ipython3",
   "version": "3.12.5"
  }
 },
 "nbformat": 4,
 "nbformat_minor": 5
}
