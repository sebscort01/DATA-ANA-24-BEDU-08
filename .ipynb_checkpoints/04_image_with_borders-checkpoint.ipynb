{
 "cells": [
  {
   "cell_type": "code",
   "execution_count": 1,
   "id": "4a7c3429-1005-4b63-929a-03c1fb85c733",
   "metadata": {},
   "outputs": [],
   "source": [
    "import cv2\n",
    "\n",
    "FILENAME = 'tmp/edificios.jpeg'\n",
    "\n",
    "# Cargar de imagen\n",
    "image = cv2.imread(FILENAME)\n",
    "\n",
    "# Mostrar imagen original\n",
    "cv2.imshow('Imagen original', image)\n",
    "\n",
    "# aplicar detector de bordes\n",
    "image_with_borders = cv2.Canny(image, 100, 200)\n",
    "cv2.imshow('Imagen with borders', image_with_borders)\n",
    "\n",
    "# DEstruir ventanas abiertas\n",
    "cv2.waitKey(0)\n",
    "cv2.destroyAllWindows()"
   ]
  }
 ],
 "metadata": {
  "kernelspec": {
   "display_name": "Python 3 (ipykernel)",
   "language": "python",
   "name": "python3"
  },
  "language_info": {
   "codemirror_mode": {
    "name": "ipython",
    "version": 3
   },
   "file_extension": ".py",
   "mimetype": "text/x-python",
   "name": "python",
   "nbconvert_exporter": "python",
   "pygments_lexer": "ipython3",
   "version": "3.12.5"
  }
 },
 "nbformat": 4,
 "nbformat_minor": 5
}
